{
 "cells": [
  {
   "cell_type": "code",
   "execution_count": 1,
   "id": "019ca3ac-06e5-4586-8506-b0024bcff255",
   "metadata": {},
   "outputs": [],
   "source": [
    "import pandas as pd\n",
    "import numpy as np\n",
    "import requests\n",
    "from tqdm import tqdm\n",
    "from catboost import CatBoostClassifier\n",
    "from sklearn.metrics import f1_score\n",
    "from sklearn.model_selection import train_test_split\n",
    "tqdm.pandas()"
   ]
  },
  {
   "cell_type": "code",
   "execution_count": 2,
   "id": "dcd6ccd3-1f3a-4bde-9959-54dccfe9664d",
   "metadata": {},
   "outputs": [],
   "source": [
    "hosts_original = pd.read_csv(\"data/host.csv\", header=None)\n",
    "hosts_original.columns = [\"url\"]"
   ]
  },
  {
   "cell_type": "code",
   "execution_count": 3,
   "id": "697fed42-9fcc-4db9-a785-5befcd2ac8bb",
   "metadata": {},
   "outputs": [
    {
     "data": {
      "text/html": [
       "<div>\n",
       "<style scoped>\n",
       "    .dataframe tbody tr th:only-of-type {\n",
       "        vertical-align: middle;\n",
       "    }\n",
       "\n",
       "    .dataframe tbody tr th {\n",
       "        vertical-align: top;\n",
       "    }\n",
       "\n",
       "    .dataframe thead th {\n",
       "        text-align: right;\n",
       "    }\n",
       "</style>\n",
       "<table border=\"1\" class=\"dataframe\">\n",
       "  <thead>\n",
       "    <tr style=\"text-align: right;\">\n",
       "      <th></th>\n",
       "      <th>url</th>\n",
       "    </tr>\n",
       "  </thead>\n",
       "  <tbody>\n",
       "    <tr>\n",
       "      <th>0</th>\n",
       "      <td>api.youla.io</td>\n",
       "    </tr>\n",
       "    <tr>\n",
       "      <th>1</th>\n",
       "      <td>favicon.yandex.net</td>\n",
       "    </tr>\n",
       "    <tr>\n",
       "      <th>2</th>\n",
       "      <td>w-74721.fp.kaspersky-labs.com</td>\n",
       "    </tr>\n",
       "    <tr>\n",
       "      <th>3</th>\n",
       "      <td>questtime.net</td>\n",
       "    </tr>\n",
       "    <tr>\n",
       "      <th>4</th>\n",
       "      <td>passport-authproxy.taxi.yandex.net</td>\n",
       "    </tr>\n",
       "  </tbody>\n",
       "</table>\n",
       "</div>"
      ],
      "text/plain": [
       "                                  url\n",
       "0                        api.youla.io\n",
       "1                  favicon.yandex.net\n",
       "2       w-74721.fp.kaspersky-labs.com\n",
       "3                       questtime.net\n",
       "4  passport-authproxy.taxi.yandex.net"
      ]
     },
     "execution_count": 3,
     "metadata": {},
     "output_type": "execute_result"
    }
   ],
   "source": [
    "hosts_original.head()"
   ]
  },
  {
   "cell_type": "markdown",
   "id": "72d628bc-e7cf-404d-95ee-6b633eb08558",
   "metadata": {},
   "source": [
    "### Анализ датасета\n",
    "* Очень много хостов, которые являются облаками крупных компаний\n",
    "* Явный дисбаланс в сторону \"технических\" хостов"
   ]
  },
  {
   "cell_type": "markdown",
   "id": "60dcf7d9-ed27-45ea-a35b-4bac110034fc",
   "metadata": {},
   "source": [
    "#### В качестве train сета будем использовать собранный командой датасет\n",
    "target: \n",
    "* 0 - ответ, привычный для пользователя\n",
    "* 1 - ответ, соответствующий служебному (техническому) взаимодействию \n",
    "\n",
    "Также в качестве попытки устранить дисбаланс на обучающей выборке, был добавлен датасет, содержащий обычные пользовательские сайты (`data/train_zeros.csv`)"
   ]
  },
  {
   "cell_type": "code",
   "execution_count": 4,
   "id": "52ae30a8-8211-4daf-96d0-9b2ba615da39",
   "metadata": {},
   "outputs": [],
   "source": [
    "train_1 = pd.read_csv(\"data/train_dan.csv\", sep=\";\")\n",
    "\n",
    "train_2 = pd.read_csv(\"data/train_den.csv\", sep=\";\", header=None)\n",
    "train_2.columns = [\"url\", \"target\"]\n",
    "\n",
    "train_3 = pd.read_csv(\"data/train_kon.csv\")\n",
    "train_3.columns = [\"url\", \"target\"]\n",
    "train_3 = train_3[train_3[\"target\"].notna()].reset_index(drop=True)\n",
    "train_3[\"target\"] = train_3[\"target\"].astype(int)\n",
    "\n",
    "train_zeros = pd.read_csv(\"data/train_zeros.csv\")\n",
    "train_zeros.dropna(inplace=True)\n",
    "train_zeros[\"target\"] = train_zeros[\"target\"].astype(int)\n",
    "\n",
    "\n",
    "train = pd.concat([train_1, train_2, train_3, train_zeros])"
   ]
  },
  {
   "cell_type": "code",
   "execution_count": 5,
   "id": "b2d9a62c-9f51-4483-836a-b8f087eaaff8",
   "metadata": {},
   "outputs": [
    {
     "data": {
      "text/html": [
       "<div>\n",
       "<style scoped>\n",
       "    .dataframe tbody tr th:only-of-type {\n",
       "        vertical-align: middle;\n",
       "    }\n",
       "\n",
       "    .dataframe tbody tr th {\n",
       "        vertical-align: top;\n",
       "    }\n",
       "\n",
       "    .dataframe thead th {\n",
       "        text-align: right;\n",
       "    }\n",
       "</style>\n",
       "<table border=\"1\" class=\"dataframe\">\n",
       "  <thead>\n",
       "    <tr style=\"text-align: right;\">\n",
       "      <th></th>\n",
       "      <th>url</th>\n",
       "      <th>target</th>\n",
       "    </tr>\n",
       "  </thead>\n",
       "  <tbody>\n",
       "    <tr>\n",
       "      <th>0</th>\n",
       "      <td>api.youla.io</td>\n",
       "      <td>0</td>\n",
       "    </tr>\n",
       "    <tr>\n",
       "      <th>1</th>\n",
       "      <td>favicon.yandex.net</td>\n",
       "      <td>1</td>\n",
       "    </tr>\n",
       "    <tr>\n",
       "      <th>2</th>\n",
       "      <td>w-74721.fp.kaspersky-labs.com</td>\n",
       "      <td>1</td>\n",
       "    </tr>\n",
       "    <tr>\n",
       "      <th>3</th>\n",
       "      <td>questtime.net</td>\n",
       "      <td>0</td>\n",
       "    </tr>\n",
       "    <tr>\n",
       "      <th>4</th>\n",
       "      <td>passport-authproxy.taxi.yandex.net</td>\n",
       "      <td>1</td>\n",
       "    </tr>\n",
       "  </tbody>\n",
       "</table>\n",
       "</div>"
      ],
      "text/plain": [
       "                                  url  target\n",
       "0                        api.youla.io       0\n",
       "1                  favicon.yandex.net       1\n",
       "2       w-74721.fp.kaspersky-labs.com       1\n",
       "3                       questtime.net       0\n",
       "4  passport-authproxy.taxi.yandex.net       1"
      ]
     },
     "execution_count": 5,
     "metadata": {},
     "output_type": "execute_result"
    }
   ],
   "source": [
    "train.head()"
   ]
  },
  {
   "cell_type": "code",
   "execution_count": 6,
   "id": "7138601c-60da-4c20-b38f-cd5ef55843be",
   "metadata": {},
   "outputs": [
    {
     "data": {
      "text/plain": [
       "(966, 2)"
      ]
     },
     "execution_count": 6,
     "metadata": {},
     "output_type": "execute_result"
    }
   ],
   "source": [
    "train.shape"
   ]
  },
  {
   "cell_type": "markdown",
   "id": "a75ae9b8-fd3e-47f7-9060-fbcd7255a96a",
   "metadata": {},
   "source": [
    "#### Посмортим, какие компоненты чаще всего встречаются в url'ах"
   ]
  },
  {
   "cell_type": "code",
   "execution_count": 7,
   "id": "2394693e-67b7-4d45-a8ed-2b99e22d7c68",
   "metadata": {},
   "outputs": [],
   "source": [
    "def get_top_components(urls):\n",
    "    words = []\n",
    "    for url in tqdm(urls):\n",
    "        words += url.split(\".\") \n",
    "    words = pd.Series(words)\n",
    "    return words.value_counts()"
   ]
  },
  {
   "cell_type": "code",
   "execution_count": 8,
   "id": "c2364c61-08f3-4f1b-ae40-cd0cce0b64b5",
   "metadata": {},
   "outputs": [
    {
     "name": "stderr",
     "output_type": "stream",
     "text": [
      "100%|████████████████████████████████████████████████████████████████████| 1000000/1000000 [00:01<00:00, 745073.75it/s]\n"
     ]
    }
   ],
   "source": [
    "top_components = get_top_components(hosts_original[\"url\"])"
   ]
  },
  {
   "cell_type": "code",
   "execution_count": 9,
   "id": "9c2ea21f-e2d4-4564-aace-183785c0c372",
   "metadata": {},
   "outputs": [
    {
     "data": {
      "text/plain": [
       "com                  520391\n",
       "ru                   172788\n",
       "net                  153952\n",
       "yandex                63034\n",
       "userapi               46256\n",
       "me                    45263\n",
       "mycdn                 37291\n",
       "googlevideo           32175\n",
       "www                   24163\n",
       "cdn                   23947\n",
       "googleapis            23779\n",
       "tiktokcdn             23406\n",
       "api                   21447\n",
       "googlesyndication     21416\n",
       "apple                 20303\n",
       "safeframe             19802\n",
       "google                18399\n",
       "img                   17551\n",
       "st                    17017\n",
       "strm                  16765\n",
       "org                   16732\n",
       "io                    16224\n",
       "avito                 16071\n",
       "mts                   14195\n",
       "0                     11399\n",
       "fbcdn                 10349\n",
       "mail                   9982\n",
       "push                   9884\n",
       "match                  9682\n",
       "akadns                 9592\n",
       "dtype: int64"
      ]
     },
     "execution_count": 9,
     "metadata": {},
     "output_type": "execute_result"
    }
   ],
   "source": [
    "top_components.head(30)"
   ]
  },
  {
   "cell_type": "markdown",
   "id": "901710bb-f8ec-42b0-ae87-788a352e060e",
   "metadata": {},
   "source": [
    "#### Для train датасета добавим фичи, которые не требуют выхода в онлай"
   ]
  },
  {
   "cell_type": "code",
   "execution_count": 10,
   "id": "7a1c3c01-9dbc-4205-9c5e-9148678c4335",
   "metadata": {},
   "outputs": [],
   "source": [
    "def get_offline_features(t):\n",
    "    df = t.copy()\n",
    "    df[\"start_with_api\"] = df[\"url\"].str.contains(\"^api\", regex=True).astype(int)\n",
    "    df[\"has_userapi\"] = df[\"url\"].str.contains(\"userapi\").astype(int)\n",
    "    df[\"has_googleapis\"] = df[\"url\"].str.contains(\"googleapis\").astype(int)\n",
    "    df[\"size_of_url\"] = df[\"url\"].apply(lambda x: len(x))\n",
    "    df[\"size_of_url_split\"] = df[\"url\"].apply(lambda x: len(x.split(\".\")))\n",
    "    df[\"clear_url\"] =  df[\"url\"].apply(lambda x: x.replace(\".\", \" \"))\n",
    "    df[\"minus_count\"] = df[\"url\"].str.count(\"-\")\n",
    "    return df"
   ]
  },
  {
   "cell_type": "code",
   "execution_count": 11,
   "id": "105c71ac-3f8a-42f5-b17f-1617fc0794c5",
   "metadata": {},
   "outputs": [],
   "source": [
    "train = get_offline_features(train)"
   ]
  },
  {
   "cell_type": "code",
   "execution_count": 12,
   "id": "8129fbfb-5ac2-47b2-95df-df4601b06123",
   "metadata": {},
   "outputs": [
    {
     "data": {
      "text/html": [
       "<div>\n",
       "<style scoped>\n",
       "    .dataframe tbody tr th:only-of-type {\n",
       "        vertical-align: middle;\n",
       "    }\n",
       "\n",
       "    .dataframe tbody tr th {\n",
       "        vertical-align: top;\n",
       "    }\n",
       "\n",
       "    .dataframe thead th {\n",
       "        text-align: right;\n",
       "    }\n",
       "</style>\n",
       "<table border=\"1\" class=\"dataframe\">\n",
       "  <thead>\n",
       "    <tr style=\"text-align: right;\">\n",
       "      <th></th>\n",
       "      <th>url</th>\n",
       "      <th>target</th>\n",
       "      <th>start_with_api</th>\n",
       "      <th>has_userapi</th>\n",
       "      <th>has_googleapis</th>\n",
       "      <th>size_of_url</th>\n",
       "      <th>size_of_url_split</th>\n",
       "      <th>clear_url</th>\n",
       "      <th>minus_count</th>\n",
       "    </tr>\n",
       "  </thead>\n",
       "  <tbody>\n",
       "    <tr>\n",
       "      <th>0</th>\n",
       "      <td>api.youla.io</td>\n",
       "      <td>0</td>\n",
       "      <td>1</td>\n",
       "      <td>0</td>\n",
       "      <td>0</td>\n",
       "      <td>12</td>\n",
       "      <td>3</td>\n",
       "      <td>api youla io</td>\n",
       "      <td>0</td>\n",
       "    </tr>\n",
       "    <tr>\n",
       "      <th>1</th>\n",
       "      <td>favicon.yandex.net</td>\n",
       "      <td>1</td>\n",
       "      <td>0</td>\n",
       "      <td>0</td>\n",
       "      <td>0</td>\n",
       "      <td>18</td>\n",
       "      <td>3</td>\n",
       "      <td>favicon yandex net</td>\n",
       "      <td>0</td>\n",
       "    </tr>\n",
       "    <tr>\n",
       "      <th>2</th>\n",
       "      <td>w-74721.fp.kaspersky-labs.com</td>\n",
       "      <td>1</td>\n",
       "      <td>0</td>\n",
       "      <td>0</td>\n",
       "      <td>0</td>\n",
       "      <td>29</td>\n",
       "      <td>4</td>\n",
       "      <td>w-74721 fp kaspersky-labs com</td>\n",
       "      <td>2</td>\n",
       "    </tr>\n",
       "    <tr>\n",
       "      <th>3</th>\n",
       "      <td>questtime.net</td>\n",
       "      <td>0</td>\n",
       "      <td>0</td>\n",
       "      <td>0</td>\n",
       "      <td>0</td>\n",
       "      <td>13</td>\n",
       "      <td>2</td>\n",
       "      <td>questtime net</td>\n",
       "      <td>0</td>\n",
       "    </tr>\n",
       "    <tr>\n",
       "      <th>4</th>\n",
       "      <td>passport-authproxy.taxi.yandex.net</td>\n",
       "      <td>1</td>\n",
       "      <td>0</td>\n",
       "      <td>0</td>\n",
       "      <td>0</td>\n",
       "      <td>34</td>\n",
       "      <td>4</td>\n",
       "      <td>passport-authproxy taxi yandex net</td>\n",
       "      <td>1</td>\n",
       "    </tr>\n",
       "  </tbody>\n",
       "</table>\n",
       "</div>"
      ],
      "text/plain": [
       "                                  url  target  start_with_api  has_userapi  \\\n",
       "0                        api.youla.io       0               1            0   \n",
       "1                  favicon.yandex.net       1               0            0   \n",
       "2       w-74721.fp.kaspersky-labs.com       1               0            0   \n",
       "3                       questtime.net       0               0            0   \n",
       "4  passport-authproxy.taxi.yandex.net       1               0            0   \n",
       "\n",
       "   has_googleapis  size_of_url  size_of_url_split  \\\n",
       "0               0           12                  3   \n",
       "1               0           18                  3   \n",
       "2               0           29                  4   \n",
       "3               0           13                  2   \n",
       "4               0           34                  4   \n",
       "\n",
       "                            clear_url  minus_count  \n",
       "0                        api youla io            0  \n",
       "1                  favicon yandex net            0  \n",
       "2       w-74721 fp kaspersky-labs com            2  \n",
       "3                       questtime net            0  \n",
       "4  passport-authproxy taxi yandex net            1  "
      ]
     },
     "execution_count": 12,
     "metadata": {},
     "output_type": "execute_result"
    }
   ],
   "source": [
    "train.head()"
   ]
  },
  {
   "cell_type": "markdown",
   "id": "f0e090a2-f372-4f96-8c2a-d6d579629b1d",
   "metadata": {},
   "source": [
    "#### Теперь создадим модель на основе CatBoost\n",
    "Обучать модель мы будем несколько раз, поэтому обернём её в функцию"
   ]
  },
  {
   "cell_type": "code",
   "execution_count": 13,
   "id": "3a7b007b-57c8-4eea-a6a9-0001d0d65285",
   "metadata": {},
   "outputs": [],
   "source": [
    "def get_model(train, cat_features, text_features):\n",
    "    \n",
    "    # Сначала разделим выборку на две части\n",
    "    x_train, x_validation, y_train, y_validation = train_test_split(train.drop(columns=[\"url\", \"target\"]), \n",
    "                                                                train[\"target\"], \n",
    "                                                                stratify=train[\"target\"],\n",
    "                                                                test_size=0.33, \n",
    "#                                                                 random_state=3\n",
    "                                                               )\n",
    "    # Создадим экземпляр модели\n",
    "    # CatBoost выполнит препроцессинг для текста (колонка clear_url) за нас, главное - передать настройки\n",
    "    # Аналогично нет необходимости задумываться о категориальных фичах\n",
    "    model = CatBoostClassifier(iterations=500,\n",
    "#                             depth = 6,\n",
    "                            learning_rate = 0.07,\n",
    "#                             l2_leaf_reg = 4,\n",
    "                            eval_metric=\"F1\",\n",
    "                            loss_function = \"Logloss\",\n",
    "                            task_type=\"GPU\",\n",
    "                            # fold_permutation_block = 2,\n",
    "                            # fold_len_multiplier = 1.5,\n",
    "                            leaf_estimation_iterations = 10,\n",
    "                            max_ctr_complexity = 5,\n",
    "                            random_seed= 127,\n",
    "                               \n",
    "                            cat_features = cat_features,\n",
    "                            text_features = [\"clear_url\"],\n",
    "                               \n",
    "                            text_processing = {\n",
    "                                \"tokenizers\" : [{\n",
    "                                \"tokenizer_id\" : \"Space\",\n",
    "                                \"separator_type\" : \"ByDelimiter\",\n",
    "                                \"delimiter\" : \" \"\n",
    "                            }],\n",
    "\n",
    "                            \"dictionaries\" : [{\n",
    "                                \"dictionary_id\" : \"BiGram\",\n",
    "                                \"token_level_type\": \"Letter\",\n",
    "                                \"max_dictionary_size\" : \"150000\",\n",
    "                                \"occurrence_lower_bound\" : \"1\",\n",
    "                                \"gram_order\" : \"2\"\n",
    "                            }, {\n",
    "                                \"dictionary_id\" : \"Trigram\",\n",
    "                                \"max_dictionary_size\" : \"150000\",\n",
    "                                \"token_level_type\": \"Letter\",\n",
    "                                \"occurrence_lower_bound\" : \"1\",\n",
    "                                \"gram_order\" : \"3\"\n",
    "                            }, {\n",
    "                                \"dictionary_id\" : \"Fourgram\",\n",
    "                                \"max_dictionary_size\" : \"150000\",\n",
    "                                \"token_level_type\": \"Letter\",\n",
    "                                \"occurrence_lower_bound\" : \"1\",\n",
    "                                \"gram_order\" : \"4\"\n",
    "                            }, {\n",
    "                                \"dictionary_id\" : \"Word\",\n",
    "                                \"max_dictionary_size\" : \"30000\",\n",
    "                                \"occurrence_lower_bound\" : \"3\",\n",
    "                                \"gram_order\" : \"1\"\n",
    "                            }, {\n",
    "                                \"dictionary_id\" : \"Fivegram\",\n",
    "                                \"max_dictionary_size\" : \"150000\",\n",
    "                                \"token_level_type\": \"Letter\",\n",
    "                                \"occurrence_lower_bound\" : \"1\",\n",
    "                                \"gram_order\" : \"5\"\n",
    "                            }, {\n",
    "                                \"dictionary_id\" : \"Sixgram\",\n",
    "                                \"max_dictionary_size\" : \"150000\",\n",
    "                                \"token_level_type\": \"Letter\",\n",
    "                                \"occurrence_lower_bound\" : \"1\",\n",
    "                                \"gram_order\" : \"6\"\n",
    "                            }\n",
    "                            ],\n",
    "\n",
    "                            \"feature_processing\" : {\n",
    "                                \"default\" : [\n",
    "                                        {\n",
    "                                        \"dictionaries_names\" : [\"BiGram\", \"Trigram\", \"Fourgram\", \"Word\", \"Fivegram\", \"Sixgram\"],\n",
    "                                        \"feature_calcers\" : [\"BoW\"],\n",
    "                                        \"tokenizers_names\" : [\"Space\"]\n",
    "                                    },{\n",
    "                                        \"dictionaries_names\" : [\"BiGram\", \"Trigram\", \"Fourgram\", \"Word\", \"Fivegram\", \"Sixgram\"],\n",
    "                                        \"feature_calcers\" : [\"NaiveBayes\"],\n",
    "                                        \"tokenizers_names\" : [\"Space\"]\n",
    "                                    },{\n",
    "                                        \"dictionaries_names\" : [ \"BiGram\", \"Trigram\", \"Fourgram\", \"Fivegram\", \"Sixgram\"],\n",
    "                                        \"feature_calcers\" : [\"BM25\"],\n",
    "                                        \"tokenizers_names\" : [\"Space\"]\n",
    "                                    }\n",
    "                                ],\n",
    "                            }\n",
    "                        }\n",
    "      )\n",
    "    \n",
    "    #Запустим обучение модели\n",
    "    model.fit(x_train, \n",
    "          y_train, \n",
    "          eval_set=(x_validation, y_validation), \n",
    "          use_best_model=True, \n",
    "          early_stopping_rounds=300,  \n",
    "#           plot=True, \n",
    "          verbose=50\n",
    "          )\n",
    "    \n",
    "    print(\"\\nVS\\nConst 1: \", f1_score(y_validation, np.ones(len(y_validation))))\n",
    "    \n",
    "    return model"
   ]
  },
  {
   "cell_type": "code",
   "execution_count": 14,
   "id": "b818b309-baf6-45bc-acfc-d4ee9895eb13",
   "metadata": {},
   "outputs": [
    {
     "name": "stdout",
     "output_type": "stream",
     "text": [
      "0:\tlearn: 0.8769634\ttest: 0.8347339\tbest: 0.8347339 (0)\ttotal: 144ms\tremaining: 1m 11s\n",
      "50:\tlearn: 0.9326425\ttest: 0.8770053\tbest: 0.9030612 (6)\ttotal: 4.92s\tremaining: 43.3s\n",
      "100:\tlearn: 0.9516340\ttest: 0.8750000\tbest: 0.9030612 (6)\ttotal: 9.29s\tremaining: 36.7s\n",
      "150:\tlearn: 0.9711286\ttest: 0.8804348\tbest: 0.9030612 (6)\ttotal: 13.5s\tremaining: 31.3s\n",
      "200:\tlearn: 0.9749009\ttest: 0.8821918\tbest: 0.9030612 (6)\ttotal: 17.8s\tremaining: 26.5s\n",
      "250:\tlearn: 0.9827357\ttest: 0.8712329\tbest: 0.9030612 (6)\ttotal: 22.2s\tremaining: 22s\n",
      "300:\tlearn: 0.9866667\ttest: 0.8657534\tbest: 0.9030612 (6)\ttotal: 26.6s\tremaining: 17.6s\n",
      "bestTest = 0.9030612245\n",
      "bestIteration = 6\n",
      "Shrink model to first 7 iterations.\n",
      "\n",
      "VS\n",
      "Const 1:  0.7290836653386454\n"
     ]
    }
   ],
   "source": [
    "cat_features = ['start_with_api', 'has_userapi', 'has_googleapis']\n",
    "text_features = [\"clear_url\"]\n",
    "\n",
    "model = get_model(train, cat_features, text_features)"
   ]
  },
  {
   "cell_type": "markdown",
   "id": "39ea3150-ce2b-4182-a6e3-1b4e747003db",
   "metadata": {},
   "source": [
    "#### Результат: 0.90306\n",
    "Констатное предсказание 1: 0.729083\n"
   ]
  },
  {
   "cell_type": "markdown",
   "id": "8847f32c-d1f3-4355-bb6e-f77b7ac577a4",
   "metadata": {},
   "source": [
    "#### Теперь попробуем добавить в датасет фичи, которые можно получить, обратившись к хосту"
   ]
  },
  {
   "cell_type": "code",
   "execution_count": null,
   "id": "911c7c04-adcd-406a-8d4e-1db4b613a998",
   "metadata": {},
   "outputs": [],
   "source": [
    "def get_online_features(t):\n",
    "    df = t.copy()\n",
    "    \n",
    "    status_codes = []\n",
    "    content_types = []\n",
    "    is_json = []\n",
    "    is_redirect = []\n",
    "    size_of_cookies = []\n",
    "    encodings = []\n",
    "    \n",
    "    def process_url(url):\n",
    "        try:\n",
    "            response = requests.get(\"http://\"+url, timeout=0.5)\n",
    "\n",
    "            try: \n",
    "                status_codes.append(response.status_code)\n",
    "            except:\n",
    "                status_codes.append(-1)\n",
    "\n",
    "            try:\n",
    "                content_types.append(response.headers[\"Content-Type\"].split(\";\")[0])\n",
    "            except:\n",
    "                content_types.append(\"none\")\n",
    "\n",
    "            try: \n",
    "                response.json()\n",
    "                is_json.append(1)\n",
    "            except:\n",
    "                is_json.append(0)\n",
    "\n",
    "            try:\n",
    "                is_redirect.append(int(response.is_redirect))\n",
    "            except:\n",
    "                is_redirect.append(-1)\n",
    "\n",
    "            try:\n",
    "                size_of_cookies.append(len(response.cookies))\n",
    "            except:\n",
    "                size_of_cookies.append(-1)\n",
    "\n",
    "            try:\n",
    "                encodings.append(response.encoding.lower() if len(response.encoding) != 0 else \"none\")\n",
    "            except: \n",
    "                encodings.append(\"none\")\n",
    "\n",
    "        except:\n",
    "            status_codes.append(-1)\n",
    "            content_types.append(\"none\")\n",
    "            is_json.append(-1)\n",
    "            is_redirect.append(-1)\n",
    "            size_of_cookies.append(-1)\n",
    "            encodings.append(\"none\")\n",
    "            \n",
    "    df[\"url\"].progress_apply(process_url)\n",
    "    \n",
    "    df[\"content_type\"] = content_types\n",
    "    df[\"status_code\"] = status_codes\n",
    "    df[\"is_json\"] = is_json\n",
    "    df[\"is_redirect\"] = is_redirect\n",
    "    df[\"encoding\"] = encodings\n",
    "    df[\"size_of_cookies\"] = size_of_cookies\n",
    "    return df"
   ]
  },
  {
   "cell_type": "code",
   "execution_count": null,
   "id": "2ff24c25-dfe6-490e-a732-7a64ee67c3e6",
   "metadata": {},
   "outputs": [],
   "source": [
    "train = get_online_features(train)"
   ]
  },
  {
   "cell_type": "code",
   "execution_count": null,
   "id": "f38d23f5-683f-44f5-9eee-ca0a94f04fdd",
   "metadata": {},
   "outputs": [],
   "source": [
    "train.head()"
   ]
  },
  {
   "cell_type": "markdown",
   "id": "4ebf9d10-f6ff-4f2f-b5f8-19bc2e3f18e1",
   "metadata": {},
   "source": [
    "#### Снова обучим модель"
   ]
  },
  {
   "cell_type": "code",
   "execution_count": null,
   "id": "ea670d06-227f-4091-9244-d80261500ed6",
   "metadata": {},
   "outputs": [],
   "source": [
    "cat_features = ['start_with_api', 'has_userapi', 'has_googleapis', 'content_type', 'status_code',\n",
    "       'is_json', 'is_redirect', 'encoding']\n",
    "text_features = [\"clear_url\"]\n",
    "\n",
    "model_v2 = get_model(train, cat_features, text_features)"
   ]
  },
  {
   "cell_type": "code",
   "execution_count": null,
   "id": "48384abf-ef6f-4f76-88dc-27ba1414f3d8",
   "metadata": {},
   "outputs": [],
   "source": [
    "model_v2.get_feature_importance(prettified=True)"
   ]
  },
  {
   "cell_type": "markdown",
   "id": "50ecc36d-2a62-4a8c-ad02-4864e00e430d",
   "metadata": {},
   "source": [
    "#### Видим улучшение результата: 0.91623, и оно появилось именно из-за online фичей"
   ]
  },
  {
   "cell_type": "code",
   "execution_count": null,
   "id": "4d27e3c5-5e09-4aa9-8d92-62bbf7ac8cc8",
   "metadata": {},
   "outputs": [],
   "source": []
  }
 ],
 "metadata": {
  "kernelspec": {
   "display_name": "Python 3",
   "language": "python",
   "name": "python3"
  },
  "language_info": {
   "codemirror_mode": {
    "name": "ipython",
    "version": 3
   },
   "file_extension": ".py",
   "mimetype": "text/x-python",
   "name": "python",
   "nbconvert_exporter": "python",
   "pygments_lexer": "ipython3",
   "version": "3.8.10"
  }
 },
 "nbformat": 4,
 "nbformat_minor": 5
}
