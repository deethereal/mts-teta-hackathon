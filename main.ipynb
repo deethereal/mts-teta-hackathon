{
 "cells": [
  {
   "cell_type": "code",
   "execution_count": 1,
   "id": "019ca3ac-06e5-4586-8506-b0024bcff255",
   "metadata": {},
   "outputs": [],
   "source": [
    "import pandas as pd\n",
    "import numpy as np\n",
    "import requests\n",
    "from tqdm import tqdm\n",
    "tqdm.pandas()"
   ]
  },
  {
   "cell_type": "code",
   "execution_count": 2,
   "id": "dcd6ccd3-1f3a-4bde-9959-54dccfe9664d",
   "metadata": {},
   "outputs": [],
   "source": [
    "hosts = pd.read_csv(\"data/host.csv\", \n",
    "                    header=None, \n",
    "#                     nrows=100\n",
    "                   )\n",
    "hosts.columns = [\"url\"]"
   ]
  },
  {
   "cell_type": "code",
   "execution_count": 3,
   "id": "697fed42-9fcc-4db9-a785-5befcd2ac8bb",
   "metadata": {},
   "outputs": [
    {
     "data": {
      "text/html": [
       "<div>\n",
       "<style scoped>\n",
       "    .dataframe tbody tr th:only-of-type {\n",
       "        vertical-align: middle;\n",
       "    }\n",
       "\n",
       "    .dataframe tbody tr th {\n",
       "        vertical-align: top;\n",
       "    }\n",
       "\n",
       "    .dataframe thead th {\n",
       "        text-align: right;\n",
       "    }\n",
       "</style>\n",
       "<table border=\"1\" class=\"dataframe\">\n",
       "  <thead>\n",
       "    <tr style=\"text-align: right;\">\n",
       "      <th></th>\n",
       "      <th>url</th>\n",
       "    </tr>\n",
       "  </thead>\n",
       "  <tbody>\n",
       "    <tr>\n",
       "      <th>0</th>\n",
       "      <td>api.youla.io</td>\n",
       "    </tr>\n",
       "    <tr>\n",
       "      <th>1</th>\n",
       "      <td>favicon.yandex.net</td>\n",
       "    </tr>\n",
       "    <tr>\n",
       "      <th>2</th>\n",
       "      <td>w-74721.fp.kaspersky-labs.com</td>\n",
       "    </tr>\n",
       "    <tr>\n",
       "      <th>3</th>\n",
       "      <td>questtime.net</td>\n",
       "    </tr>\n",
       "    <tr>\n",
       "      <th>4</th>\n",
       "      <td>passport-authproxy.taxi.yandex.net</td>\n",
       "    </tr>\n",
       "  </tbody>\n",
       "</table>\n",
       "</div>"
      ],
      "text/plain": [
       "                                  url\n",
       "0                        api.youla.io\n",
       "1                  favicon.yandex.net\n",
       "2       w-74721.fp.kaspersky-labs.com\n",
       "3                       questtime.net\n",
       "4  passport-authproxy.taxi.yandex.net"
      ]
     },
     "execution_count": 3,
     "metadata": {},
     "output_type": "execute_result"
    }
   ],
   "source": [
    "hosts.head()"
   ]
  },
  {
   "cell_type": "code",
   "execution_count": 4,
   "id": "2394693e-67b7-4d45-a8ed-2b99e22d7c68",
   "metadata": {},
   "outputs": [
    {
     "name": "stderr",
     "output_type": "stream",
     "text": [
      "100%|████████████████████████████████████████████████████████████████████| 1000000/1000000 [00:01<00:00, 864609.92it/s]\n"
     ]
    },
    {
     "data": {
      "text/plain": [
       "com                  520391\n",
       "ru                   172788\n",
       "net                  153952\n",
       "yandex                63034\n",
       "userapi               46256\n",
       "me                    45263\n",
       "mycdn                 37291\n",
       "googlevideo           32175\n",
       "www                   24163\n",
       "cdn                   23947\n",
       "googleapis            23779\n",
       "tiktokcdn             23406\n",
       "api                   21447\n",
       "googlesyndication     21416\n",
       "apple                 20303\n",
       "safeframe             19802\n",
       "google                18399\n",
       "img                   17551\n",
       "st                    17017\n",
       "strm                  16765\n",
       "org                   16732\n",
       "io                    16224\n",
       "avito                 16071\n",
       "mts                   14195\n",
       "0                     11399\n",
       "fbcdn                 10349\n",
       "mail                   9982\n",
       "push                   9884\n",
       "match                  9682\n",
       "akadns                 9592\n",
       "dtype: int64"
      ]
     },
     "execution_count": 4,
     "metadata": {},
     "output_type": "execute_result"
    }
   ],
   "source": [
    "words = []\n",
    "\n",
    "def collect_words(url):\n",
    "    global words\n",
    "    words += url.split(\".\")\n",
    "    \n",
    "hosts[\"url\"].progress_apply(collect_words)   \n",
    "words = pd.Series(words)\n",
    "\n",
    "words.value_counts().head(30)"
   ]
  },
  {
   "cell_type": "code",
   "execution_count": 5,
   "id": "764fc0ff-c40f-4f2c-8752-029cd8a711da",
   "metadata": {},
   "outputs": [
    {
     "data": {
      "text/plain": [
       "25037"
      ]
     },
     "execution_count": 5,
     "metadata": {},
     "output_type": "execute_result"
    }
   ],
   "source": [
    "start_with_api = hosts[\"url\"].str.contains(\"^api\", regex=True).astype(int)\n",
    "sum(start_with_api)"
   ]
  },
  {
   "cell_type": "code",
   "execution_count": 6,
   "id": "37b1a2a7-5770-4670-a0e9-9e812e4ce18f",
   "metadata": {},
   "outputs": [
    {
     "data": {
      "text/plain": [
       "46268"
      ]
     },
     "execution_count": 6,
     "metadata": {},
     "output_type": "execute_result"
    }
   ],
   "source": [
    "has_userapi = hosts[\"url\"].str.contains(\"userapi\").astype(int)\n",
    "sum(has_userapi)"
   ]
  },
  {
   "cell_type": "code",
   "execution_count": 7,
   "id": "84c33a2b-ec52-4ed4-9558-4b2a09d35501",
   "metadata": {},
   "outputs": [
    {
     "data": {
      "text/plain": [
       "23784"
      ]
     },
     "execution_count": 7,
     "metadata": {},
     "output_type": "execute_result"
    }
   ],
   "source": [
    "has_googleapis = hosts[\"url\"].str.contains(\"googleapis\").astype(int)\n",
    "sum(has_googleapis)"
   ]
  },
  {
   "cell_type": "code",
   "execution_count": 8,
   "id": "7a4672f5-2255-4e7f-8c41-5a43fb5d9b1c",
   "metadata": {},
   "outputs": [],
   "source": [
    "hosts[\"start_with_api\"] = start_with_api\n",
    "hosts[\"has_userapi\"] = has_userapi\n",
    "hosts[\"has_googleapis\"] = has_googleapis"
   ]
  },
  {
   "cell_type": "code",
   "execution_count": 9,
   "id": "105c71ac-3f8a-42f5-b17f-1617fc0794c5",
   "metadata": {},
   "outputs": [
    {
     "name": "stderr",
     "output_type": "stream",
     "text": [
      "100%|████████████████████████████████████████████████████████████████████| 1000000/1000000 [00:01<00:00, 771132.96it/s]\n"
     ]
    }
   ],
   "source": [
    "hosts[\"size_of_url\"] = hosts[\"url\"].progress_apply(lambda x: len(x))"
   ]
  },
  {
   "cell_type": "code",
   "execution_count": 10,
   "id": "eff0dc38-4488-4267-a0ba-47c4f620756b",
   "metadata": {},
   "outputs": [
    {
     "name": "stderr",
     "output_type": "stream",
     "text": [
      "100%|████████████████████████████████████████████████████████████████████| 1000000/1000000 [00:01<00:00, 774071.77it/s]\n"
     ]
    }
   ],
   "source": [
    "hosts[\"size_of_url_split\"] = hosts[\"url\"].progress_apply(lambda x: len(x.split(\".\")))"
   ]
  },
  {
   "cell_type": "code",
   "execution_count": 11,
   "id": "8129fbfb-5ac2-47b2-95df-df4601b06123",
   "metadata": {},
   "outputs": [
    {
     "data": {
      "text/html": [
       "<div>\n",
       "<style scoped>\n",
       "    .dataframe tbody tr th:only-of-type {\n",
       "        vertical-align: middle;\n",
       "    }\n",
       "\n",
       "    .dataframe tbody tr th {\n",
       "        vertical-align: top;\n",
       "    }\n",
       "\n",
       "    .dataframe thead th {\n",
       "        text-align: right;\n",
       "    }\n",
       "</style>\n",
       "<table border=\"1\" class=\"dataframe\">\n",
       "  <thead>\n",
       "    <tr style=\"text-align: right;\">\n",
       "      <th></th>\n",
       "      <th>url</th>\n",
       "      <th>start_with_api</th>\n",
       "      <th>has_userapi</th>\n",
       "      <th>has_googleapis</th>\n",
       "      <th>size_of_url</th>\n",
       "      <th>size_of_url_split</th>\n",
       "    </tr>\n",
       "  </thead>\n",
       "  <tbody>\n",
       "    <tr>\n",
       "      <th>0</th>\n",
       "      <td>api.youla.io</td>\n",
       "      <td>1</td>\n",
       "      <td>0</td>\n",
       "      <td>0</td>\n",
       "      <td>12</td>\n",
       "      <td>3</td>\n",
       "    </tr>\n",
       "    <tr>\n",
       "      <th>1</th>\n",
       "      <td>favicon.yandex.net</td>\n",
       "      <td>0</td>\n",
       "      <td>0</td>\n",
       "      <td>0</td>\n",
       "      <td>18</td>\n",
       "      <td>3</td>\n",
       "    </tr>\n",
       "    <tr>\n",
       "      <th>2</th>\n",
       "      <td>w-74721.fp.kaspersky-labs.com</td>\n",
       "      <td>0</td>\n",
       "      <td>0</td>\n",
       "      <td>0</td>\n",
       "      <td>29</td>\n",
       "      <td>4</td>\n",
       "    </tr>\n",
       "    <tr>\n",
       "      <th>3</th>\n",
       "      <td>questtime.net</td>\n",
       "      <td>0</td>\n",
       "      <td>0</td>\n",
       "      <td>0</td>\n",
       "      <td>13</td>\n",
       "      <td>2</td>\n",
       "    </tr>\n",
       "    <tr>\n",
       "      <th>4</th>\n",
       "      <td>passport-authproxy.taxi.yandex.net</td>\n",
       "      <td>0</td>\n",
       "      <td>0</td>\n",
       "      <td>0</td>\n",
       "      <td>34</td>\n",
       "      <td>4</td>\n",
       "    </tr>\n",
       "  </tbody>\n",
       "</table>\n",
       "</div>"
      ],
      "text/plain": [
       "                                  url  start_with_api  has_userapi  \\\n",
       "0                        api.youla.io               1            0   \n",
       "1                  favicon.yandex.net               0            0   \n",
       "2       w-74721.fp.kaspersky-labs.com               0            0   \n",
       "3                       questtime.net               0            0   \n",
       "4  passport-authproxy.taxi.yandex.net               0            0   \n",
       "\n",
       "   has_googleapis  size_of_url  size_of_url_split  \n",
       "0               0           12                  3  \n",
       "1               0           18                  3  \n",
       "2               0           29                  4  \n",
       "3               0           13                  2  \n",
       "4               0           34                  4  "
      ]
     },
     "execution_count": 11,
     "metadata": {},
     "output_type": "execute_result"
    }
   ],
   "source": [
    "hosts.head()"
   ]
  },
  {
   "cell_type": "code",
   "execution_count": 12,
   "id": "80e0556c-8293-4e95-a322-1d912601c2c2",
   "metadata": {},
   "outputs": [],
   "source": [
    "hosts = hosts.head(100).copy()"
   ]
  },
  {
   "cell_type": "code",
   "execution_count": 13,
   "id": "2ff24c25-dfe6-490e-a732-7a64ee67c3e6",
   "metadata": {},
   "outputs": [],
   "source": [
    "status_codes = []\n",
    "content_types = []\n",
    "is_json = []\n",
    "is_redirect = []\n",
    "size_of_cookies = []\n",
    "encodings = []"
   ]
  },
  {
   "cell_type": "code",
   "execution_count": 14,
   "id": "1c81bbc5-4ee6-4677-a8d7-4df679c8052b",
   "metadata": {},
   "outputs": [],
   "source": [
    "def process_url(url):\n",
    "    try:\n",
    "        response = requests.get(\"http://\"+url, timeout=0.5)\n",
    "        \n",
    "        try: \n",
    "            status_codes.append(response.status_code)\n",
    "        except:\n",
    "            status_codes.append(-1)\n",
    "        \n",
    "        try:\n",
    "            content_types.append(response.headers[\"Content-Type\"].split(\";\")[0])\n",
    "        except:\n",
    "            content_types.append(\"none\")\n",
    "            \n",
    "        try: \n",
    "            response.json()\n",
    "            is_json.append(1)\n",
    "        except:\n",
    "            is_json.append(0)\n",
    "            \n",
    "        try:\n",
    "            is_redirect.append(int(response.is_redirect))\n",
    "        except:\n",
    "            is_redirect.append(-1)\n",
    "            \n",
    "        try:\n",
    "            size_of_cookies.append(len(response.cookies))\n",
    "        except:\n",
    "            size_of_cookies.append(-1)\n",
    "            \n",
    "        try:\n",
    "            encodings.append(response.encoding if len(response.encoding) != 0 else \"none\")\n",
    "        except: \n",
    "            encodings.append(\"none\")\n",
    "        \n",
    "    except:\n",
    "        status_codes.append(-1)\n",
    "        content_types.append(\"none\")\n",
    "        is_json.append(-1)\n",
    "        is_redirect.append(-1)\n",
    "        size_of_cookies.append(-1)\n",
    "        encodings.append(\"none\")"
   ]
  },
  {
   "cell_type": "code",
   "execution_count": 15,
   "id": "3b50a981-c202-4c41-b4bb-151b54dcb460",
   "metadata": {},
   "outputs": [
    {
     "name": "stderr",
     "output_type": "stream",
     "text": [
      "100%|████████████████████████████████████████████████████████████████████████████████| 100/100 [00:35<00:00,  2.82it/s]"
     ]
    },
    {
     "name": "stdout",
     "output_type": "stream",
     "text": [
      "Done\n"
     ]
    },
    {
     "name": "stderr",
     "output_type": "stream",
     "text": [
      "\n"
     ]
    }
   ],
   "source": [
    "hosts[\"url\"].progress_apply(process_url)\n",
    "print(\"Done\")"
   ]
  },
  {
   "cell_type": "code",
   "execution_count": 16,
   "id": "0276fc34-5312-479c-80f5-a1df8b74c092",
   "metadata": {},
   "outputs": [
    {
     "data": {
      "text/plain": [
       "['text/html',\n",
       " 'none',\n",
       " 'none',\n",
       " 'text/html',\n",
       " 'application/json',\n",
       " 'none',\n",
       " 'none',\n",
       " 'text/html',\n",
       " 'text/plain',\n",
       " 'none']"
      ]
     },
     "execution_count": 16,
     "metadata": {},
     "output_type": "execute_result"
    }
   ],
   "source": [
    "content_types[:10]"
   ]
  },
  {
   "cell_type": "code",
   "execution_count": 17,
   "id": "7ea2e3fd-eff0-4b85-b4b3-5b868a637d7c",
   "metadata": {},
   "outputs": [
    {
     "data": {
      "text/plain": [
       "[200, 404, -1, 200, 404, -1, -1, 404, 204, -1]"
      ]
     },
     "execution_count": 17,
     "metadata": {},
     "output_type": "execute_result"
    }
   ],
   "source": [
    "status_codes[:10]"
   ]
  },
  {
   "cell_type": "code",
   "execution_count": 18,
   "id": "dd44f5ad-5ac0-4f79-8fbc-30489f4714ae",
   "metadata": {},
   "outputs": [
    {
     "data": {
      "text/plain": [
       "[0, 0, -1, 0, 1, -1, -1, 0, 0, -1]"
      ]
     },
     "execution_count": 18,
     "metadata": {},
     "output_type": "execute_result"
    }
   ],
   "source": [
    "is_json[:10]"
   ]
  },
  {
   "cell_type": "code",
   "execution_count": 19,
   "id": "97bd0deb-dd75-472b-83a4-55c77f01fde2",
   "metadata": {},
   "outputs": [
    {
     "data": {
      "text/plain": [
       "[0, 0, -1, 0, 0, -1, -1, 0, 0, -1]"
      ]
     },
     "execution_count": 19,
     "metadata": {},
     "output_type": "execute_result"
    }
   ],
   "source": [
    "is_redirect[:10]"
   ]
  },
  {
   "cell_type": "code",
   "execution_count": 20,
   "id": "d36e8e35-59ec-4996-91c1-3335fcd1def7",
   "metadata": {},
   "outputs": [
    {
     "data": {
      "text/plain": [
       "['UTF-8',\n",
       " 'none',\n",
       " 'none',\n",
       " 'UTF-8',\n",
       " 'utf-8',\n",
       " 'none',\n",
       " 'none',\n",
       " 'UTF-8',\n",
       " 'ISO-8859-1',\n",
       " 'none']"
      ]
     },
     "execution_count": 20,
     "metadata": {},
     "output_type": "execute_result"
    }
   ],
   "source": [
    "encodings[:10]"
   ]
  },
  {
   "cell_type": "code",
   "execution_count": 21,
   "id": "4278b396-a001-4dbe-8d3f-c07dbe16e578",
   "metadata": {},
   "outputs": [
    {
     "data": {
      "text/plain": [
       "[0, 0, -1, 1, 0, -1, -1, 0, 0, -1]"
      ]
     },
     "execution_count": 21,
     "metadata": {},
     "output_type": "execute_result"
    }
   ],
   "source": [
    "size_of_cookies[:10]"
   ]
  },
  {
   "cell_type": "code",
   "execution_count": 22,
   "id": "6a2070b8-9b5b-4d87-a5f7-01e9f9ca59c3",
   "metadata": {},
   "outputs": [],
   "source": [
    "hosts[\"content_type\"] = content_types\n",
    "hosts[\"status_code\"] = status_codes\n",
    "hosts[\"is_json\"] = is_json\n",
    "hosts[\"is_redirect\"] = is_redirect\n",
    "hosts[\"encoding\"] = encodings\n",
    "hosts[\"size_of_cookies\"] = size_of_cookies"
   ]
  },
  {
   "cell_type": "code",
   "execution_count": 23,
   "id": "9a36e764-da00-4cdd-bf26-f9bfc7099e6a",
   "metadata": {},
   "outputs": [
    {
     "data": {
      "text/html": [
       "<div>\n",
       "<style scoped>\n",
       "    .dataframe tbody tr th:only-of-type {\n",
       "        vertical-align: middle;\n",
       "    }\n",
       "\n",
       "    .dataframe tbody tr th {\n",
       "        vertical-align: top;\n",
       "    }\n",
       "\n",
       "    .dataframe thead th {\n",
       "        text-align: right;\n",
       "    }\n",
       "</style>\n",
       "<table border=\"1\" class=\"dataframe\">\n",
       "  <thead>\n",
       "    <tr style=\"text-align: right;\">\n",
       "      <th></th>\n",
       "      <th>url</th>\n",
       "      <th>start_with_api</th>\n",
       "      <th>has_userapi</th>\n",
       "      <th>has_googleapis</th>\n",
       "      <th>size_of_url</th>\n",
       "      <th>size_of_url_split</th>\n",
       "      <th>content_type</th>\n",
       "      <th>status_code</th>\n",
       "      <th>is_json</th>\n",
       "      <th>is_redirect</th>\n",
       "      <th>encoding</th>\n",
       "      <th>size_of_cookies</th>\n",
       "    </tr>\n",
       "  </thead>\n",
       "  <tbody>\n",
       "    <tr>\n",
       "      <th>0</th>\n",
       "      <td>api.youla.io</td>\n",
       "      <td>1</td>\n",
       "      <td>0</td>\n",
       "      <td>0</td>\n",
       "      <td>12</td>\n",
       "      <td>3</td>\n",
       "      <td>text/html</td>\n",
       "      <td>200</td>\n",
       "      <td>0</td>\n",
       "      <td>0</td>\n",
       "      <td>UTF-8</td>\n",
       "      <td>0</td>\n",
       "    </tr>\n",
       "    <tr>\n",
       "      <th>1</th>\n",
       "      <td>favicon.yandex.net</td>\n",
       "      <td>0</td>\n",
       "      <td>0</td>\n",
       "      <td>0</td>\n",
       "      <td>18</td>\n",
       "      <td>3</td>\n",
       "      <td>none</td>\n",
       "      <td>404</td>\n",
       "      <td>0</td>\n",
       "      <td>0</td>\n",
       "      <td>none</td>\n",
       "      <td>0</td>\n",
       "    </tr>\n",
       "    <tr>\n",
       "      <th>2</th>\n",
       "      <td>w-74721.fp.kaspersky-labs.com</td>\n",
       "      <td>0</td>\n",
       "      <td>0</td>\n",
       "      <td>0</td>\n",
       "      <td>29</td>\n",
       "      <td>4</td>\n",
       "      <td>none</td>\n",
       "      <td>-1</td>\n",
       "      <td>-1</td>\n",
       "      <td>-1</td>\n",
       "      <td>none</td>\n",
       "      <td>-1</td>\n",
       "    </tr>\n",
       "    <tr>\n",
       "      <th>3</th>\n",
       "      <td>questtime.net</td>\n",
       "      <td>0</td>\n",
       "      <td>0</td>\n",
       "      <td>0</td>\n",
       "      <td>13</td>\n",
       "      <td>2</td>\n",
       "      <td>text/html</td>\n",
       "      <td>200</td>\n",
       "      <td>0</td>\n",
       "      <td>0</td>\n",
       "      <td>UTF-8</td>\n",
       "      <td>1</td>\n",
       "    </tr>\n",
       "    <tr>\n",
       "      <th>4</th>\n",
       "      <td>passport-authproxy.taxi.yandex.net</td>\n",
       "      <td>0</td>\n",
       "      <td>0</td>\n",
       "      <td>0</td>\n",
       "      <td>34</td>\n",
       "      <td>4</td>\n",
       "      <td>application/json</td>\n",
       "      <td>404</td>\n",
       "      <td>1</td>\n",
       "      <td>0</td>\n",
       "      <td>utf-8</td>\n",
       "      <td>0</td>\n",
       "    </tr>\n",
       "  </tbody>\n",
       "</table>\n",
       "</div>"
      ],
      "text/plain": [
       "                                  url  start_with_api  has_userapi  \\\n",
       "0                        api.youla.io               1            0   \n",
       "1                  favicon.yandex.net               0            0   \n",
       "2       w-74721.fp.kaspersky-labs.com               0            0   \n",
       "3                       questtime.net               0            0   \n",
       "4  passport-authproxy.taxi.yandex.net               0            0   \n",
       "\n",
       "   has_googleapis  size_of_url  size_of_url_split      content_type  \\\n",
       "0               0           12                  3         text/html   \n",
       "1               0           18                  3              none   \n",
       "2               0           29                  4              none   \n",
       "3               0           13                  2         text/html   \n",
       "4               0           34                  4  application/json   \n",
       "\n",
       "   status_code  is_json  is_redirect encoding  size_of_cookies  \n",
       "0          200        0            0    UTF-8                0  \n",
       "1          404        0            0     none                0  \n",
       "2           -1       -1           -1     none               -1  \n",
       "3          200        0            0    UTF-8                1  \n",
       "4          404        1            0    utf-8                0  "
      ]
     },
     "execution_count": 23,
     "metadata": {},
     "output_type": "execute_result"
    }
   ],
   "source": [
    "hosts.head()"
   ]
  },
  {
   "cell_type": "code",
   "execution_count": null,
   "id": "77841d3d-6741-4207-bccf-078e6046863c",
   "metadata": {},
   "outputs": [],
   "source": []
  }
 ],
 "metadata": {
  "kernelspec": {
   "display_name": "Python 3",
   "language": "python",
   "name": "python3"
  },
  "language_info": {
   "codemirror_mode": {
    "name": "ipython",
    "version": 3
   },
   "file_extension": ".py",
   "mimetype": "text/x-python",
   "name": "python",
   "nbconvert_exporter": "python",
   "pygments_lexer": "ipython3",
   "version": "3.8.10"
  }
 },
 "nbformat": 4,
 "nbformat_minor": 5
}
