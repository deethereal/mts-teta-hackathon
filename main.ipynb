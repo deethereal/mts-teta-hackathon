{
 "cells": [
  {
   "cell_type": "code",
   "execution_count": 1,
   "id": "019ca3ac-06e5-4586-8506-b0024bcff255",
   "metadata": {},
   "outputs": [],
   "source": [
    "import pandas as pd\n",
    "import numpy as np\n",
    "import requests\n",
    "from tqdm import tqdm\n",
    "tqdm.pandas()"
   ]
  },
  {
   "cell_type": "code",
   "execution_count": 2,
   "id": "dcd6ccd3-1f3a-4bde-9959-54dccfe9664d",
   "metadata": {},
   "outputs": [],
   "source": [
    "hosts = pd.read_csv(\"data/host.csv\", header=None)\n",
    "hosts.columns = [\"url\"]"
   ]
  },
  {
   "cell_type": "code",
   "execution_count": 3,
   "id": "697fed42-9fcc-4db9-a785-5befcd2ac8bb",
   "metadata": {},
   "outputs": [
    {
     "data": {
      "text/html": [
       "<div>\n",
       "<style scoped>\n",
       "    .dataframe tbody tr th:only-of-type {\n",
       "        vertical-align: middle;\n",
       "    }\n",
       "\n",
       "    .dataframe tbody tr th {\n",
       "        vertical-align: top;\n",
       "    }\n",
       "\n",
       "    .dataframe thead th {\n",
       "        text-align: right;\n",
       "    }\n",
       "</style>\n",
       "<table border=\"1\" class=\"dataframe\">\n",
       "  <thead>\n",
       "    <tr style=\"text-align: right;\">\n",
       "      <th></th>\n",
       "      <th>url</th>\n",
       "    </tr>\n",
       "  </thead>\n",
       "  <tbody>\n",
       "    <tr>\n",
       "      <th>0</th>\n",
       "      <td>api.youla.io</td>\n",
       "    </tr>\n",
       "    <tr>\n",
       "      <th>1</th>\n",
       "      <td>favicon.yandex.net</td>\n",
       "    </tr>\n",
       "    <tr>\n",
       "      <th>2</th>\n",
       "      <td>w-74721.fp.kaspersky-labs.com</td>\n",
       "    </tr>\n",
       "    <tr>\n",
       "      <th>3</th>\n",
       "      <td>questtime.net</td>\n",
       "    </tr>\n",
       "    <tr>\n",
       "      <th>4</th>\n",
       "      <td>passport-authproxy.taxi.yandex.net</td>\n",
       "    </tr>\n",
       "  </tbody>\n",
       "</table>\n",
       "</div>"
      ],
      "text/plain": [
       "                                  url\n",
       "0                        api.youla.io\n",
       "1                  favicon.yandex.net\n",
       "2       w-74721.fp.kaspersky-labs.com\n",
       "3                       questtime.net\n",
       "4  passport-authproxy.taxi.yandex.net"
      ]
     },
     "execution_count": 3,
     "metadata": {},
     "output_type": "execute_result"
    }
   ],
   "source": [
    "hosts.head()"
   ]
  },
  {
   "cell_type": "code",
   "execution_count": 4,
   "id": "764fc0ff-c40f-4f2c-8752-029cd8a711da",
   "metadata": {},
   "outputs": [
    {
     "data": {
      "text/plain": [
       "25037"
      ]
     },
     "execution_count": 4,
     "metadata": {},
     "output_type": "execute_result"
    }
   ],
   "source": [
    "start_with_api = hosts[\"url\"].str.contains(\"^api\", regex=True).astype(int)\n",
    "sum(start_with_api)"
   ]
  },
  {
   "cell_type": "code",
   "execution_count": 5,
   "id": "7a4672f5-2255-4e7f-8c41-5a43fb5d9b1c",
   "metadata": {},
   "outputs": [],
   "source": [
    "hosts[\"start_with_api\"] = start_with_api"
   ]
  },
  {
   "cell_type": "code",
   "execution_count": 6,
   "id": "8129fbfb-5ac2-47b2-95df-df4601b06123",
   "metadata": {},
   "outputs": [
    {
     "data": {
      "text/html": [
       "<div>\n",
       "<style scoped>\n",
       "    .dataframe tbody tr th:only-of-type {\n",
       "        vertical-align: middle;\n",
       "    }\n",
       "\n",
       "    .dataframe tbody tr th {\n",
       "        vertical-align: top;\n",
       "    }\n",
       "\n",
       "    .dataframe thead th {\n",
       "        text-align: right;\n",
       "    }\n",
       "</style>\n",
       "<table border=\"1\" class=\"dataframe\">\n",
       "  <thead>\n",
       "    <tr style=\"text-align: right;\">\n",
       "      <th></th>\n",
       "      <th>url</th>\n",
       "      <th>start_with_api</th>\n",
       "    </tr>\n",
       "  </thead>\n",
       "  <tbody>\n",
       "    <tr>\n",
       "      <th>0</th>\n",
       "      <td>api.youla.io</td>\n",
       "      <td>1</td>\n",
       "    </tr>\n",
       "    <tr>\n",
       "      <th>1</th>\n",
       "      <td>favicon.yandex.net</td>\n",
       "      <td>0</td>\n",
       "    </tr>\n",
       "    <tr>\n",
       "      <th>2</th>\n",
       "      <td>w-74721.fp.kaspersky-labs.com</td>\n",
       "      <td>0</td>\n",
       "    </tr>\n",
       "    <tr>\n",
       "      <th>3</th>\n",
       "      <td>questtime.net</td>\n",
       "      <td>0</td>\n",
       "    </tr>\n",
       "    <tr>\n",
       "      <th>4</th>\n",
       "      <td>passport-authproxy.taxi.yandex.net</td>\n",
       "      <td>0</td>\n",
       "    </tr>\n",
       "  </tbody>\n",
       "</table>\n",
       "</div>"
      ],
      "text/plain": [
       "                                  url  start_with_api\n",
       "0                        api.youla.io               1\n",
       "1                  favicon.yandex.net               0\n",
       "2       w-74721.fp.kaspersky-labs.com               0\n",
       "3                       questtime.net               0\n",
       "4  passport-authproxy.taxi.yandex.net               0"
      ]
     },
     "execution_count": 6,
     "metadata": {},
     "output_type": "execute_result"
    }
   ],
   "source": [
    "hosts.head()"
   ]
  },
  {
   "cell_type": "code",
   "execution_count": 53,
   "id": "2ff24c25-dfe6-490e-a732-7a64ee67c3e6",
   "metadata": {},
   "outputs": [],
   "source": [
    "status_codes = []\n",
    "content_types = []\n",
    "is_json = []\n",
    "is_redirect = []\n",
    "size_of_cookies = []\n",
    "encodings = []"
   ]
  },
  {
   "cell_type": "code",
   "execution_count": 62,
   "id": "1c81bbc5-4ee6-4677-a8d7-4df679c8052b",
   "metadata": {},
   "outputs": [],
   "source": [
    "def process_url(url):\n",
    "    try:\n",
    "        response = requests.get(\"http://\"+url, timeout=0.5)\n",
    "        \n",
    "        try: \n",
    "            status_codes.append(response.status_code)\n",
    "        except:\n",
    "            status_codes.append(-1)\n",
    "        \n",
    "        try:\n",
    "            content_types.append(response.headers[\"Content-Type\"].split(\";\")[0])\n",
    "        except:\n",
    "            content_types.append(\"none\")\n",
    "            \n",
    "        try: \n",
    "            response.json()\n",
    "            is_json.append(1)\n",
    "        except:\n",
    "            is_json.append(0)\n",
    "            \n",
    "        try:\n",
    "            is_redirect.append(int(response.is_redirect))\n",
    "        except:\n",
    "            is_redirect.append(-1)\n",
    "            \n",
    "        try:\n",
    "            size_of_cookies.append(len(response.cookies))\n",
    "        except:\n",
    "            size_of_cookies.append(-1)\n",
    "            \n",
    "        try:\n",
    "            encodings.append(response.encoding if len(response.encoding) != 0 else \"none\")\n",
    "        except: \n",
    "            encodings.append(\"none\")\n",
    "        \n",
    "    except:\n",
    "        status_codes.append(-1)\n",
    "        content_types.append(\"none\")\n",
    "        is_json.append(-1)\n",
    "        is_redirect.append(-1)\n",
    "        size_of_cookies.append(-1)\n",
    "        encodings.append(\"none\")"
   ]
  },
  {
   "cell_type": "code",
   "execution_count": 63,
   "id": "3b50a981-c202-4c41-b4bb-151b54dcb460",
   "metadata": {},
   "outputs": [
    {
     "name": "stderr",
     "output_type": "stream",
     "text": [
      "100%|██████████████████████████████████████████████████████████████████████████████████| 30/30 [00:11<00:00,  2.61it/s]"
     ]
    },
    {
     "name": "stdout",
     "output_type": "stream",
     "text": [
      "Done\n"
     ]
    },
    {
     "name": "stderr",
     "output_type": "stream",
     "text": [
      "\n"
     ]
    }
   ],
   "source": [
    "hosts[\"url\"][:50].progress_apply(process_url) # example\n",
    "print(\"Done\")"
   ]
  },
  {
   "cell_type": "code",
   "execution_count": 64,
   "id": "0276fc34-5312-479c-80f5-a1df8b74c092",
   "metadata": {},
   "outputs": [
    {
     "data": {
      "text/plain": [
       "['text/html',\n",
       " 'none',\n",
       " 'none',\n",
       " 'text/html',\n",
       " 'application/json',\n",
       " 'text/html',\n",
       " 'none',\n",
       " 'text/html',\n",
       " 'text/plain',\n",
       " 'application/json']"
      ]
     },
     "execution_count": 64,
     "metadata": {},
     "output_type": "execute_result"
    }
   ],
   "source": [
    "content_types[:10]"
   ]
  },
  {
   "cell_type": "code",
   "execution_count": 65,
   "id": "7ea2e3fd-eff0-4b85-b4b3-5b868a637d7c",
   "metadata": {},
   "outputs": [
    {
     "data": {
      "text/plain": [
       "[200, 404, -1, 200, 404, 200, -1, 404, 204, 403]"
      ]
     },
     "execution_count": 65,
     "metadata": {},
     "output_type": "execute_result"
    }
   ],
   "source": [
    "status_codes[:10]"
   ]
  },
  {
   "cell_type": "code",
   "execution_count": 66,
   "id": "dd44f5ad-5ac0-4f79-8fbc-30489f4714ae",
   "metadata": {},
   "outputs": [
    {
     "data": {
      "text/plain": [
       "[0, 0, -1, 0, 1, 0, -1, 0, 0, 1]"
      ]
     },
     "execution_count": 66,
     "metadata": {},
     "output_type": "execute_result"
    }
   ],
   "source": [
    "is_json[:10]"
   ]
  },
  {
   "cell_type": "code",
   "execution_count": 67,
   "id": "97bd0deb-dd75-472b-83a4-55c77f01fde2",
   "metadata": {},
   "outputs": [
    {
     "data": {
      "text/plain": [
       "[0, 0, -1, 0, 0, 0, -1, 0, 0, 0]"
      ]
     },
     "execution_count": 67,
     "metadata": {},
     "output_type": "execute_result"
    }
   ],
   "source": [
    "is_redirect[:10]"
   ]
  },
  {
   "cell_type": "code",
   "execution_count": 68,
   "id": "d36e8e35-59ec-4996-91c1-3335fcd1def7",
   "metadata": {},
   "outputs": [
    {
     "data": {
      "text/plain": [
       "['UTF-8',\n",
       " 'none',\n",
       " 'none',\n",
       " 'UTF-8',\n",
       " 'utf-8',\n",
       " 'utf-8',\n",
       " 'none',\n",
       " 'UTF-8',\n",
       " 'ISO-8859-1',\n",
       " 'utf-8']"
      ]
     },
     "execution_count": 68,
     "metadata": {},
     "output_type": "execute_result"
    }
   ],
   "source": [
    "encodings[:10]"
   ]
  },
  {
   "cell_type": "code",
   "execution_count": 69,
   "id": "4278b396-a001-4dbe-8d3f-c07dbe16e578",
   "metadata": {},
   "outputs": [
    {
     "data": {
      "text/plain": [
       "[0, 0, -1, 1, 0, 5, -1, 0, 0, 0]"
      ]
     },
     "execution_count": 69,
     "metadata": {},
     "output_type": "execute_result"
    }
   ],
   "source": [
    "size_of_cookies[:10]"
   ]
  },
  {
   "cell_type": "code",
   "execution_count": null,
   "id": "9e24b5be-2db2-4590-b8ca-c6bc6206e2b0",
   "metadata": {},
   "outputs": [],
   "source": []
  }
 ],
 "metadata": {
  "kernelspec": {
   "display_name": "Python 3",
   "language": "python",
   "name": "python3"
  },
  "language_info": {
   "codemirror_mode": {
    "name": "ipython",
    "version": 3
   },
   "file_extension": ".py",
   "mimetype": "text/x-python",
   "name": "python",
   "nbconvert_exporter": "python",
   "pygments_lexer": "ipython3",
   "version": "3.8.10"
  }
 },
 "nbformat": 4,
 "nbformat_minor": 5
}
