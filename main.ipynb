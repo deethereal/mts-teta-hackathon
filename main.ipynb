{
 "cells": [
  {
   "cell_type": "code",
   "execution_count": 1,
   "id": "019ca3ac-06e5-4586-8506-b0024bcff255",
   "metadata": {},
   "outputs": [],
   "source": [
    "import pandas as pd\n",
    "import numpy as np\n",
    "import requests\n",
    "from tqdm import tqdm\n",
    "tqdm.pandas()"
   ]
  },
  {
   "cell_type": "code",
   "execution_count": 2,
   "id": "dcd6ccd3-1f3a-4bde-9959-54dccfe9664d",
   "metadata": {},
   "outputs": [],
   "source": [
    "hosts = pd.read_csv(\"data/host.csv\", header=None)\n",
    "hosts.columns = [\"url\"]"
   ]
  },
  {
   "cell_type": "code",
   "execution_count": 3,
   "id": "697fed42-9fcc-4db9-a785-5befcd2ac8bb",
   "metadata": {},
   "outputs": [
    {
     "data": {
      "text/html": [
       "<div>\n",
       "<style scoped>\n",
       "    .dataframe tbody tr th:only-of-type {\n",
       "        vertical-align: middle;\n",
       "    }\n",
       "\n",
       "    .dataframe tbody tr th {\n",
       "        vertical-align: top;\n",
       "    }\n",
       "\n",
       "    .dataframe thead th {\n",
       "        text-align: right;\n",
       "    }\n",
       "</style>\n",
       "<table border=\"1\" class=\"dataframe\">\n",
       "  <thead>\n",
       "    <tr style=\"text-align: right;\">\n",
       "      <th></th>\n",
       "      <th>url</th>\n",
       "    </tr>\n",
       "  </thead>\n",
       "  <tbody>\n",
       "    <tr>\n",
       "      <th>0</th>\n",
       "      <td>api.youla.io</td>\n",
       "    </tr>\n",
       "    <tr>\n",
       "      <th>1</th>\n",
       "      <td>favicon.yandex.net</td>\n",
       "    </tr>\n",
       "    <tr>\n",
       "      <th>2</th>\n",
       "      <td>w-74721.fp.kaspersky-labs.com</td>\n",
       "    </tr>\n",
       "    <tr>\n",
       "      <th>3</th>\n",
       "      <td>questtime.net</td>\n",
       "    </tr>\n",
       "    <tr>\n",
       "      <th>4</th>\n",
       "      <td>passport-authproxy.taxi.yandex.net</td>\n",
       "    </tr>\n",
       "  </tbody>\n",
       "</table>\n",
       "</div>"
      ],
      "text/plain": [
       "                                  url\n",
       "0                        api.youla.io\n",
       "1                  favicon.yandex.net\n",
       "2       w-74721.fp.kaspersky-labs.com\n",
       "3                       questtime.net\n",
       "4  passport-authproxy.taxi.yandex.net"
      ]
     },
     "execution_count": 3,
     "metadata": {},
     "output_type": "execute_result"
    }
   ],
   "source": [
    "hosts.head()"
   ]
  },
  {
   "cell_type": "code",
   "execution_count": 4,
   "id": "764fc0ff-c40f-4f2c-8752-029cd8a711da",
   "metadata": {},
   "outputs": [
    {
     "data": {
      "text/plain": [
       "25037"
      ]
     },
     "execution_count": 4,
     "metadata": {},
     "output_type": "execute_result"
    }
   ],
   "source": [
    "start_with_api = hosts[\"url\"].str.contains(\"^api\", regex=True).astype(int)\n",
    "sum(start_with_api)"
   ]
  },
  {
   "cell_type": "code",
   "execution_count": 5,
   "id": "7a4672f5-2255-4e7f-8c41-5a43fb5d9b1c",
   "metadata": {},
   "outputs": [],
   "source": [
    "hosts[\"start_with_api\"] = start_with_api"
   ]
  },
  {
   "cell_type": "code",
   "execution_count": 6,
   "id": "8129fbfb-5ac2-47b2-95df-df4601b06123",
   "metadata": {},
   "outputs": [
    {
     "data": {
      "text/html": [
       "<div>\n",
       "<style scoped>\n",
       "    .dataframe tbody tr th:only-of-type {\n",
       "        vertical-align: middle;\n",
       "    }\n",
       "\n",
       "    .dataframe tbody tr th {\n",
       "        vertical-align: top;\n",
       "    }\n",
       "\n",
       "    .dataframe thead th {\n",
       "        text-align: right;\n",
       "    }\n",
       "</style>\n",
       "<table border=\"1\" class=\"dataframe\">\n",
       "  <thead>\n",
       "    <tr style=\"text-align: right;\">\n",
       "      <th></th>\n",
       "      <th>url</th>\n",
       "      <th>start_with_api</th>\n",
       "    </tr>\n",
       "  </thead>\n",
       "  <tbody>\n",
       "    <tr>\n",
       "      <th>0</th>\n",
       "      <td>api.youla.io</td>\n",
       "      <td>1</td>\n",
       "    </tr>\n",
       "    <tr>\n",
       "      <th>1</th>\n",
       "      <td>favicon.yandex.net</td>\n",
       "      <td>0</td>\n",
       "    </tr>\n",
       "    <tr>\n",
       "      <th>2</th>\n",
       "      <td>w-74721.fp.kaspersky-labs.com</td>\n",
       "      <td>0</td>\n",
       "    </tr>\n",
       "    <tr>\n",
       "      <th>3</th>\n",
       "      <td>questtime.net</td>\n",
       "      <td>0</td>\n",
       "    </tr>\n",
       "    <tr>\n",
       "      <th>4</th>\n",
       "      <td>passport-authproxy.taxi.yandex.net</td>\n",
       "      <td>0</td>\n",
       "    </tr>\n",
       "  </tbody>\n",
       "</table>\n",
       "</div>"
      ],
      "text/plain": [
       "                                  url  start_with_api\n",
       "0                        api.youla.io               1\n",
       "1                  favicon.yandex.net               0\n",
       "2       w-74721.fp.kaspersky-labs.com               0\n",
       "3                       questtime.net               0\n",
       "4  passport-authproxy.taxi.yandex.net               0"
      ]
     },
     "execution_count": 6,
     "metadata": {},
     "output_type": "execute_result"
    }
   ],
   "source": [
    "hosts.head()"
   ]
  },
  {
   "cell_type": "code",
   "execution_count": 12,
   "id": "2ff24c25-dfe6-490e-a732-7a64ee67c3e6",
   "metadata": {},
   "outputs": [],
   "source": [
    "status_codes = []\n",
    "is_json = []\n",
    "content_types = []"
   ]
  },
  {
   "cell_type": "code",
   "execution_count": 13,
   "id": "1c81bbc5-4ee6-4677-a8d7-4df679c8052b",
   "metadata": {},
   "outputs": [],
   "source": [
    "def process_url(url):\n",
    "    try:\n",
    "        response = requests.get(\"http://\"+url, timeout=2)\n",
    "        sc = response.status_code\n",
    "        status_codes.append(sc)\n",
    "        content_types.append(response.headers['Content-Type'].split(\";\")[0])\n",
    "    except:\n",
    "        status_codes.append(-1)\n",
    "        content_types.append(\"none\")\n",
    "#         is_json.append(-1)\n",
    "#         is_html.append(-1)\n",
    "#         is_xml.append(-1)"
   ]
  },
  {
   "cell_type": "code",
   "execution_count": 14,
   "id": "3b50a981-c202-4c41-b4bb-151b54dcb460",
   "metadata": {},
   "outputs": [
    {
     "name": "stderr",
     "output_type": "stream",
     "text": [
      "100%|██████████████████████████████████████████████████████████████████████████████████| 50/50 [00:27<00:00,  1.84it/s]"
     ]
    },
    {
     "name": "stdout",
     "output_type": "stream",
     "text": [
      "Done\n"
     ]
    },
    {
     "name": "stderr",
     "output_type": "stream",
     "text": [
      "\n"
     ]
    }
   ],
   "source": [
    "hosts[\"url\"][:50].progress_apply(process_url) # example\n",
    "print(\"Done\")"
   ]
  },
  {
   "cell_type": "code",
   "execution_count": 16,
   "id": "0276fc34-5312-479c-80f5-a1df8b74c092",
   "metadata": {},
   "outputs": [
    {
     "data": {
      "text/plain": [
       "['text/html; charset=UTF-8',\n",
       " 'none',\n",
       " 'none',\n",
       " 'text/html; charset=utf-8',\n",
       " 'application/json; charset=utf-8',\n",
       " 'text/html; charset=utf-8',\n",
       " 'none',\n",
       " 'text/html; charset=UTF-8',\n",
       " 'text/plain',\n",
       " 'application/json']"
      ]
     },
     "execution_count": 16,
     "metadata": {},
     "output_type": "execute_result"
    }
   ],
   "source": [
    "content_types[:10]"
   ]
  },
  {
   "cell_type": "code",
   "execution_count": 17,
   "id": "7ea2e3fd-eff0-4b85-b4b3-5b868a637d7c",
   "metadata": {},
   "outputs": [
    {
     "data": {
      "text/plain": [
       "[200, 404, -1, -1, 200, 404, 200, -1, 404, 204]"
      ]
     },
     "execution_count": 17,
     "metadata": {},
     "output_type": "execute_result"
    }
   ],
   "source": [
    "status_codes[:10]"
   ]
  }
 ],
 "metadata": {
  "kernelspec": {
   "display_name": "Python 3",
   "language": "python",
   "name": "python3"
  },
  "language_info": {
   "codemirror_mode": {
    "name": "ipython",
    "version": 3
   },
   "file_extension": ".py",
   "mimetype": "text/x-python",
   "name": "python",
   "nbconvert_exporter": "python",
   "pygments_lexer": "ipython3",
   "version": "3.8.10"
  }
 },
 "nbformat": 4,
 "nbformat_minor": 5
}
